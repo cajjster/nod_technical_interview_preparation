{
 "cells": [
  {
   "cell_type": "markdown",
   "id": "1462aad0",
   "metadata": {},
   "source": [
    "<img src=\"https://iili.io/2FquTQ4.png\" alt=\"2FquTQ4.png\" border=\"0\" width=\"150\" />\n",
    "\n",
    "# Python Exercises"
   ]
  },
  {
   "cell_type": "markdown",
   "id": "74942491",
   "metadata": {},
   "source": [
    "### Exercise 1: Calculating the Cost of a Freelance Project\n",
    "\n",
    "You’ve just started working as a freelance data analyst, and a client has hired you to clean and visualize their sales data.  \n",
    "They agreed to pay you a fixed daily rate, plus a performance bonus depending on how quickly you deliver the project.\n",
    "\n",
    "You have the following information:\n",
    "- Your daily rate in euros.  \n",
    "- The number of days the project took.  \n",
    "- The agreed bonus percentage (applied to the total pay).  \n",
    "- The client also reimburses you for software licenses (a fixed cost).\n",
    "\n",
    "Your task is to use the variables below to calculate your `base_pay`, `bonus_pay` and `total_earnings` from this project, and print a short summary showing all the details.\n"
   ]
  },
  {
   "cell_type": "code",
   "execution_count": null,
   "id": "8cad9f3d",
   "metadata": {},
   "outputs": [],
   "source": [
    "# variables\n",
    "daily_rate = 350.0        # euros per day\n",
    "days_worked = 8\n",
    "bonus_percentage = 12.5    # percent\n",
    "software_cost = 120        # euros\n",
    "\n",
    "# Code here:\n",
    "\n"
   ]
  },
  {
   "cell_type": "markdown",
   "id": "d42c57c3",
   "metadata": {},
   "source": [
    "### Exercise 2: Tracking an Order in an Online Store\n",
    "\n",
    "You’re working at a small e-commerce startup. Each order that comes in is stored as a list containing this information: \n",
    "[order_id, customer_name, city, items, total_amount, status]\n",
    "\n",
    "Assign the variables `order_id`,`customer_name`, `shipping_status` and `no_of_items` by indexing the list and print out a summary sentence about the order.\n",
    "\n",
    "\n",
    "\n"
   ]
  },
  {
   "cell_type": "code",
   "execution_count": null,
   "id": "a02995d5",
   "metadata": {},
   "outputs": [],
   "source": [
    "order = [1043, \"Fredrika Johnsson\", \"Gothenburg\", [\"backpack\", \"sunglasses\", \"water bottle\"], 89.90, \"shipped\"]\n",
    "\n",
    "# Code here:\n"
   ]
  },
  {
   "cell_type": "markdown",
   "id": "8b7c028c",
   "metadata": {},
   "source": [
    "### Exercise 3: Create a function\n",
    "\n",
    "Your task is to build a function `cylinder_area` that calculates the surface area of a cylinder. The function will need radius and height as input and should return the surface area. Below you'll find the mathematical formula that you need to translate into Python code.\n",
    "\n",
    "\n",
    "The surface area \\( A \\) of a cylinder is given by:\n",
    "\n",
    "$$\n",
    "A = 2\\pi r(h + r)\n",
    "$$\n",
    "\n",
    "where  \n",
    "- \\( r \\) = radius  \n",
    "- \\( h \\) = height\n"
   ]
  },
  {
   "cell_type": "code",
   "execution_count": null,
   "id": "43841bee",
   "metadata": {},
   "outputs": [],
   "source": [
    "# Code here:\n"
   ]
  },
  {
   "cell_type": "markdown",
   "id": "2d334842",
   "metadata": {},
   "source": [
    "### Exercise 4: Call the function\n",
    "\n",
    "Creating and calling a function are two distinct things. When you define a function, you are storing some logic in your program. But to use that logic, you need to call the function. Call function `surface_area` from the previous exercise and see if it works."
   ]
  },
  {
   "cell_type": "code",
   "execution_count": null,
   "id": "c645f082",
   "metadata": {},
   "outputs": [],
   "source": [
    "# Code here:\n",
    "\n"
   ]
  },
  {
   "cell_type": "markdown",
   "id": "b250aa87",
   "metadata": {},
   "source": [
    "### Exercise 5: Divide all numbers by 2\n",
    "\n",
    "Go through the `nums` and divide all numbers by two and save your results to a new list `divided` and print out your results. "
   ]
  },
  {
   "cell_type": "code",
   "execution_count": null,
   "id": "2f5dd168",
   "metadata": {},
   "outputs": [],
   "source": [
    "nums = [2, 44, 5, 66, 63, 55, 25, 13, 335, 325, 6, 63, 13, 55, 253, 21, 512, 22, 345, 553, 1002, 312, 234 ]\n",
    "\n",
    "# Code here:\n",
    "\n"
   ]
  },
  {
   "cell_type": "markdown",
   "id": "73c2bf57",
   "metadata": {},
   "source": [
    "### Exercise 5: Find People that are Older than you\n",
    "\n",
    "Find all the people in `birth_year` that are older than you are and add their current age to a new list list called `ages` and print out your results. "
   ]
  },
  {
   "cell_type": "code",
   "execution_count": null,
   "id": "0b3d51ea",
   "metadata": {},
   "outputs": [],
   "source": [
    "birth_year = [1992, 1980, 2000, 2004, 1995, 1992, 1939, 1968, 1970, 1998, 2012, 1948, 1982, 2001, 1993]\n",
    "\n",
    "# Code here:\n",
    "\n"
   ]
  },
  {
   "cell_type": "markdown",
   "id": "138de5e6",
   "metadata": {},
   "source": []
  }
 ],
 "metadata": {
  "kernelspec": {
   "display_name": "base",
   "language": "python",
   "name": "python3"
  },
  "language_info": {
   "codemirror_mode": {
    "name": "ipython",
    "version": 3
   },
   "file_extension": ".py",
   "mimetype": "text/x-python",
   "name": "python",
   "nbconvert_exporter": "python",
   "pygments_lexer": "ipython3",
   "version": "3.13.5"
  }
 },
 "nbformat": 4,
 "nbformat_minor": 5
}
