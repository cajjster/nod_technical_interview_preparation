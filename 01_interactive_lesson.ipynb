{
 "cells": [
  {
   "cell_type": "markdown",
   "id": "c3f4d337",
   "metadata": {},
   "source": [
    "<img src=\"https://iili.io/2FquTQ4.png\" alt=\"2FquTQ4.png\" border=\"0\" width=\"150\" />\n",
    "\n",
    "# Interactive Python Lecture with Exercise\n",
    "\n"
   ]
  },
  {
   "cell_type": "markdown",
   "id": "cab2a453",
   "metadata": {},
   "source": [
    "## Getting Started with Python Notebooks in VSCode\n",
    "\n",
    "A Python notebook (file ending with `.ipynb`) is an interactive environment used to **write**, **run** and, **explain** code in one place, which makes it ideal for the purpose of learning Python. A notebook is divided into section called **cells**. You can think of cells as building blocks, they are small, editable units that you can run independently. There are two types of cells, **code cells** and **markdown cells**. Code cells contains code that you can execute. When you run a code sell, the notebook sends the code to the Python Interpreter, execute it and, shows you the output right below the cell. The cell you are reading this text from is a Markdown cell and we use them mainly for formatted text and explanaintions. \n",
    "\n",
    "To run any cell in VSCode, you press `Shift + Enter` (both on Mac and Windows). When you run a code cell, the code output appears below. When you run a markdown cell, it gives you the formatted text.<br><br> Try running the cells below to see what happens.\n"
   ]
  },
  {
   "cell_type": "markdown",
   "id": "31919232",
   "metadata": {},
   "source": [
    "#### Markdown cell Heading\n",
    "\n",
    "Double-click this cell to to see how the text see the markdown symbols used to create this formatting.\n",
    "We can use **to make text bold** and we can use *to make text italic*. We can even markup text with html and embed images.\n",
    "Press `Shift + Enter` to render the formatted text."
   ]
  },
  {
   "cell_type": "code",
   "execution_count": null,
   "id": "e31e0fe8",
   "metadata": {},
   "outputs": [],
   "source": [
    "# This is a code cell!\n",
    "# The hashtag symbol makes this line a comment which means it will not be executed as code.\n",
    "# Comments are useful for explaining what your code does.\n",
    "\n",
    "print(\"Hello, World!\") \n"
   ]
  },
  {
   "cell_type": "markdown",
   "id": "d6f0e3e8",
   "metadata": {},
   "source": [
    "## How Cells are Connected\n",
    "\n",
    "All code cell share the same Python kernel, meaning they use the same memory and variable state. If we define a variable in one cell, you can use it in another. But, the order in which you run the cells matters. If you'd run the second cell before the first one, Python will not know what the `year` is and raise an error. In other words, notebooks run top-to-bottom, but you control the execution order."
   ]
  },
  {
   "cell_type": "code",
   "execution_count": null,
   "id": "27bd0944",
   "metadata": {},
   "outputs": [],
   "source": [
    "# defining a variable in one cell\n",
    "year = 2026"
   ]
  },
  {
   "cell_type": "code",
   "execution_count": null,
   "id": "125652b3",
   "metadata": {},
   "outputs": [],
   "source": [
    "# using the variable in another cell\n",
    "year - 1"
   ]
  },
  {
   "cell_type": "markdown",
   "id": "9dffd988",
   "metadata": {},
   "source": [
    "## Creating cells in VSCode\n",
    "\n",
    "You can create a cell by pressing `+ Code` or `+ Markdown` in the top your file. We've attached a table with shortcuts that you can look at, but for now you only need to now how to create cells.\n",
    "\n",
    "#### Shortcuts in VSCode\n",
    "\n",
    "<table border=\"1\" cellspacing=\"0\" cellpadding=\"5\">\n",
    "  <thead>\n",
    "    <tr>\n",
    "      <th>Action</th>\n",
    "      <th>MacBook Command</th>\n",
    "      <th>Windows Command</th>\n",
    "    </tr>\n",
    "  </thead>\n",
    "  <tbody>\n",
    "    <tr>\n",
    "      <td>Run cell</td>\n",
    "      <td><code>Shift + Enter</code></td>\n",
    "      <td><code>Shift + Enter</code></td>\n",
    "    </tr>\n",
    "    <tr>\n",
    "      <td>Run cell and add new below</td>\n",
    "      <td><code>Option + Enter</code></td>\n",
    "      <td><code>Alt + Enter</code></td>\n",
    "    </tr>\n",
    "    <tr>\n",
    "      <td>Run all above</td>\n",
    "      <td><code>Cmd + Option + PageUp</code></td>\n",
    "      <td><code>Ctrl + Alt + PageUp</code></td>\n",
    "    </tr>\n",
    "    <tr>\n",
    "      <td>Run all below</td>\n",
    "      <td><code>Cmd + Option + PageDown</code></td>\n",
    "      <td><code>Ctrl + Alt + PageDown</code></td>\n",
    "    </tr>\n",
    "    <tr>\n",
    "      <td>Add new cell below</td>\n",
    "      <td><code>B</code></td>\n",
    "      <td><code>B</code></td>\n",
    "    </tr>\n",
    "    <tr>\n",
    "      <td>Add new cell above</td>\n",
    "      <td><code>A</code></td>\n",
    "      <td><code>A</code></td>\n",
    "    </tr>\n",
    "    <tr>\n",
    "      <td>Delete cell</td>\n",
    "      <td><code>DD</code> (press D twice)</td>\n",
    "      <td><code>DD</code> (press D twice)</td>\n",
    "    </tr>\n",
    "    <tr>\n",
    "      <td>Change cell to code</td>\n",
    "      <td><code>Y</code></td>\n",
    "      <td><code>Y</code></td>\n",
    "    </tr>\n",
    "    <tr>\n",
    "      <td>Change cell to markdown</td>\n",
    "      <td><code>M</code></td>\n",
    "      <td><code>M</code></td>\n",
    "    </tr>\n",
    "    <tr>\n",
    "      <td>Move cell up</td>\n",
    "      <td><code>Option + Up</code></td>\n",
    "      <td><code>Alt + Up</code></td>\n",
    "    </tr>\n",
    "    <tr>\n",
    "      <td>Move cell down</td>\n",
    "      <td><code>Option + Down</code></td>\n",
    "      <td><code>Alt + Down</code></td>\n",
    "    </tr>\n",
    "    <tr>\n",
    "      <td>Split cell</td>\n",
    "      <td><code>Cmd + Shift + -</code></td>\n",
    "      <td><code>Ctrl + Shift + -</code></td>\n",
    "    </tr>\n",
    "    <tr>\n",
    "      <td>Merge selected cells</td>\n",
    "      <td><code>Shift + M</code></td>\n",
    "      <td><code>Shift + M</code></td>\n",
    "    </tr>\n",
    "    <tr>\n",
    "      <td>Interrupt kernel</td>\n",
    "      <td><code>I I</code> (press I twice)</td>\n",
    "      <td><code>I I</code> (press I twice)</td>\n",
    "    </tr>\n",
    "    <tr>\n",
    "      <td>Restart kernel</td>\n",
    "      <td><code>0 0</code> (press 0 twice)</td>\n",
    "      <td><code>0 0</code> (press 0 twice)</td>\n",
    "    </tr>\n",
    "  </tbody>\n",
    "</table>"
   ]
  },
  {
   "cell_type": "markdown",
   "id": "0bd71929",
   "metadata": {},
   "source": [
    "## Python `print()`\n",
    "\n",
    "Python is a very simple language, and has very straightforward syntax. Python comes with a bunch of built-in functions which makes the task of writing code a lot faster. For example, to print something in Python we just need to call the function print and tell it what to print. In other languages you would need to write a bunch of repetetive and standardized code (boilerplate code) to make that happen.\n",
    "\n",
    "Run the cell below to print out the string to the console:"
   ]
  },
  {
   "cell_type": "code",
   "execution_count": null,
   "id": "3f0a9312",
   "metadata": {},
   "outputs": [],
   "source": [
    "print(\"My favourite artist is Taylor Swift!\")"
   ]
  },
  {
   "cell_type": "code",
   "execution_count": null,
   "id": "fbd47652",
   "metadata": {},
   "outputs": [],
   "source": [
    "# Try printing out your own favorite artist here!"
   ]
  },
  {
   "cell_type": "markdown",
   "id": "4b37e5c9",
   "metadata": {},
   "source": [
    "## Variables Data Types in Python\n",
    "\n",
    "A **variable** is a name that refers to a value stored in memory. You can think of it as a **label** you attach to a piece of data so you can easily use and manipulate it later in your code. Variables allow you to store, reuse, and modify information throughout your program.\n",
    "\n",
    "\n",
    "To create a variable in Python, you assigning a value to a variable name using the `=` sign. The name becomes a reference to the stored value. \n",
    "\n",
    "The three variables in cell belows are assigned to three different data types:\n",
    "\n",
    "In this example:\n",
    "- `name` stores a string (`\"Axel\"`). Strings are used to record text information and you need to put quotes around it to make it a string.\n",
    "- `age` stores an integer (`30`) which is a number without decimal points and you can use it for mathematical operations.\n",
    "- `height` stores a float (`1.81`) which is also a number, but it has decimal points and you can use it for mathematical operations as well.\n",
    "\n",
    "\n",
    "Update the variables below to store infromation about yourself and then run the cell:"
   ]
  },
  {
   "cell_type": "code",
   "execution_count": null,
   "id": "ebc63b4d",
   "metadata": {},
   "outputs": [],
   "source": [
    "age = 30\n",
    "name = \"Axel\"\n",
    "height = 1.81"
   ]
  },
  {
   "cell_type": "code",
   "execution_count": null,
   "id": "795fdbd2",
   "metadata": {},
   "outputs": [],
   "source": [
    "# Follow this syntax to print out two new statements about your age and height as well\n",
    "print(\"My name is\", name)"
   ]
  },
  {
   "cell_type": "markdown",
   "id": "ed338203",
   "metadata": {},
   "source": [
    "Once you’ve stored a value in a variable, you can use it anywhere in your program simply by referencing its name. You can also perform operations using variables or update their values later."
   ]
  },
  {
   "cell_type": "code",
   "execution_count": null,
   "id": "a63b7dcf",
   "metadata": {},
   "outputs": [],
   "source": [
    "this_year = 2025\n",
    "one_year = 1\n",
    "next_year = this_year + one_year\n",
    "print(next_year)"
   ]
  },
  {
   "cell_type": "markdown",
   "id": "2b258118",
   "metadata": {},
   "source": [
    "Using variables makes it clear what each value represents and allows you to easily change `radius` or `pi` without rewriting the entire calculation. It is a good practice to define variables when you are solving a problem."
   ]
  },
  {
   "cell_type": "code",
   "execution_count": null,
   "id": "4882a3fd",
   "metadata": {},
   "outputs": [],
   "source": [
    "# In this example we are printing the area of 5 cm circle without variables. If someone else reads this, it is very hard to understand what the numbers are and what problem it solves.\n",
    "print(3.14 * 5 ** 2)"
   ]
  },
  {
   "cell_type": "code",
   "execution_count": null,
   "id": "c740fb92",
   "metadata": {},
   "outputs": [],
   "source": [
    "# In this example we are using variables which makes it immeadiatly clear what each value represents. Plus, it allows you to easily change `radius` to caclulate the area of another circle or, to reuse `pi` for other calculations.\n",
    "\n",
    "pi = 3.14\n",
    "radius = 5\n",
    "area = pi * radius ** 2\n",
    "print(area)\n"
   ]
  },
  {
   "cell_type": "markdown",
   "id": "d43806c6",
   "metadata": {},
   "source": [
    "## Math in Python\n",
    "\n",
    "As you might have noticed already, mathematical operations in Python are straightforward. It is basically like using a calculator on your computer."
   ]
  },
  {
   "cell_type": "code",
   "execution_count": null,
   "id": "36bde765",
   "metadata": {},
   "outputs": [],
   "source": [
    "addition = 8 + 3\n",
    "\n",
    "print(addition)"
   ]
  },
  {
   "cell_type": "code",
   "execution_count": null,
   "id": "57a77683",
   "metadata": {},
   "outputs": [],
   "source": [
    "subtraction = 8 - 5\n",
    "\n",
    "print(subtraction)"
   ]
  },
  {
   "cell_type": "code",
   "execution_count": null,
   "id": "de2ea35b",
   "metadata": {},
   "outputs": [],
   "source": [
    "multiplication = 8 * 6\n",
    "\n",
    "print(multiplication)"
   ]
  },
  {
   "cell_type": "code",
   "execution_count": null,
   "id": "f4bd2b11",
   "metadata": {},
   "outputs": [],
   "source": [
    "division = 8 / 5\n",
    "\n",
    "print(division)"
   ]
  },
  {
   "cell_type": "code",
   "execution_count": null,
   "id": "de196e7b",
   "metadata": {},
   "outputs": [],
   "source": [
    "division = 8 / 4\n",
    "print(division) # Division will always return a float (decimal number), even if the result is a whole number."
   ]
  },
  {
   "cell_type": "code",
   "execution_count": null,
   "id": "9fcb56b5",
   "metadata": {},
   "outputs": [],
   "source": [
    "powers = 10 ** 2 # we use two asterisks for powers (exponents)\n",
    "print(powers) "
   ]
  },
  {
   "cell_type": "code",
   "execution_count": null,
   "id": "f1d06ff6",
   "metadata": {},
   "outputs": [],
   "source": [
    "square_root = 16 ** 0.5 # there is no specific operator for square root, but we can use powers to calculate it. 16 ** 0.5 is the same as the square root of 16.\n",
    "print(square_root)"
   ]
  },
  {
   "cell_type": "markdown",
   "id": "d65affc6",
   "metadata": {},
   "source": [
    "## Strings in Python\n",
    "\n",
    "Strings can be made with single quotes or double quotes. And we can concatenate strings together using the `+` operator."
   ]
  },
  {
   "cell_type": "code",
   "execution_count": null,
   "id": "665fc3b8",
   "metadata": {},
   "outputs": [],
   "source": [
    "lyrics_1 = 'Hello, can you hear me?' # using single quotes\n",
    "lyrics_2 = \"I'm in California dreaming about who we used to be\" # using double quotes\n",
    "\n",
    "combined_lyrics = lyrics_1 + \" \" + lyrics_2 # using white space to separate the strings. You can try removing the \" \" + to see what happens.\n",
    "\n",
    "print(combined_lyrics)"
   ]
  },
  {
   "cell_type": "markdown",
   "id": "1b789994",
   "metadata": {},
   "source": [
    "## Lists in Python\n",
    "\n",
    "A **list** in Python is an ordered collection of items that can hold **multiple values in a single variable**. Lists are written using square brackets `[]` and can contain items of any data type — integers, floats, strings, or even other lists. They are **mutable**, meaning you can change, add, or remove items after creating them. Lists are extremely useful for storing data that belongs together, such as a list of names, scores, or tasks. Python keeps track of the items in the lists by their **index position**. That means that you can easily access an item by providing its **index**.\n"
   ]
  },
  {
   "cell_type": "code",
   "execution_count": null,
   "id": "5a94ff07",
   "metadata": {},
   "outputs": [],
   "source": [
    "my_list = [\"Lists can hold any data type\", 42, 3.14, True, [\"Lists can even hold other lists!\"]]\n",
    "\n",
    "print(my_list)"
   ]
  },
  {
   "cell_type": "code",
   "execution_count": null,
   "id": "fbe56609",
   "metadata": {},
   "outputs": [],
   "source": [
    "tasks = [\"Study Python\", \"Go for a walk\", \"Solve Python exercises\", \"Eat lunch\", \"Call plumber\"]\n",
    "\n",
    "# We start counting from 0 in Python, so the first item is at index 0, the second at index 1, and so on.\n",
    "print(tasks[0])"
   ]
  },
  {
   "cell_type": "code",
   "execution_count": null,
   "id": "244a9af0",
   "metadata": {},
   "outputs": [],
   "source": [
    "# Try printing out the second and fourth items in the list as well!"
   ]
  },
  {
   "cell_type": "code",
   "execution_count": null,
   "id": "2c21c207",
   "metadata": {},
   "outputs": [],
   "source": [
    "# We can also access items in a list using negative indexing, which starts counting from the end of the list. The last item is at index -1, the second to last at index -2, and so on.\n",
    "# This is very useful when you want to access the last item in a list without knowing its length.\n",
    "print(tasks[-1])\n",
    "print(tasks[-2])"
   ]
  },
  {
   "cell_type": "code",
   "execution_count": null,
   "id": "58032fdd",
   "metadata": {},
   "outputs": [],
   "source": [
    "# print out the first item of `my_list` using negative indexing"
   ]
  },
  {
   "cell_type": "markdown",
   "id": "cc5f8d40",
   "metadata": {},
   "source": [
    "Lists are mutable, which means that you change, add or remove items after the list has been created.\n",
    "\n",
    "To change an exisiting value, you specify the index position of the value you want to change and assign it with `=` to the new value."
   ]
  },
  {
   "cell_type": "code",
   "execution_count": null,
   "id": "f89ec0af",
   "metadata": {},
   "outputs": [],
   "source": [
    "print(tasks)\n",
    "tasks[1] = \"Go for a run\" # Change the second item\n",
    "\n",
    "print(tasks)"
   ]
  },
  {
   "cell_type": "markdown",
   "id": "27408e1b",
   "metadata": {},
   "source": [
    "To add a new item to a list we use the `.append()` method. It will append the new item to the end of list."
   ]
  },
  {
   "cell_type": "code",
   "execution_count": null,
   "id": "c7fc70f6",
   "metadata": {},
   "outputs": [],
   "source": [
    "print(tasks)\n",
    "\n",
    "tasks.append(\"Respond to emails\")\n",
    "tasks.append(\"Pick up groceries\")\n",
    "\n",
    "print(tasks)"
   ]
  },
  {
   "cell_type": "markdown",
   "id": "8de06522",
   "metadata": {},
   "source": [
    "To remove an item from a list, we can use the `.remove()` method. It will delete the first occurence of the specified value from the list."
   ]
  },
  {
   "cell_type": "code",
   "execution_count": null,
   "id": "058f3879",
   "metadata": {},
   "outputs": [],
   "source": [
    "print(tasks)\n",
    "tasks.remove(\"Eat lunch\")\n",
    "\n",
    "print(tasks)"
   ]
  },
  {
   "cell_type": "code",
   "execution_count": null,
   "id": "42768904",
   "metadata": {},
   "outputs": [],
   "source": [
    "# Write code that:\n",
    "\n",
    "# Adds \"Review Python notes\" to the end of the `tasks` list\n",
    "# Removes \"Go for a walk\" from the `tasks` list\n",
    "# Changes \"Call plumber\" to \"Call electrician\"\n",
    "\n",
    "\n",
    "\n",
    "\n",
    "# print out the new list to see the changes:\n"
   ]
  },
  {
   "cell_type": "markdown",
   "id": "d32ba43b",
   "metadata": {},
   "source": [
    "We can use the function `len()` to see the number of items in the list. For lists that only includes numbers, we can use `sum()` to sum up all numbers in the list.\n"
   ]
  },
  {
   "cell_type": "code",
   "execution_count": null,
   "id": "72bc444f",
   "metadata": {},
   "outputs": [],
   "source": [
    "nums = [12, 33, 246, 23.5, 41, 84]\n",
    "\n",
    "print(len(nums))\n",
    "print(sum(nums))"
   ]
  },
  {
   "cell_type": "markdown",
   "id": "4a6d459b",
   "metadata": {},
   "source": [
    "## Comparison Operators in Python\n",
    "\n",
    "Comparison operators are used to **compare two values** and return a Boolean result: `True` or `False`. They are essential in **decision-making** with `if` statements or loops. Here’s a quick reference of the most common comparison operators in Python:\n",
    "\n",
    "| Operator | Meaning                        | Example           | Result        |\n",
    "|----------|--------------------------------|-----------------|---------------|\n",
    "| `<`      | Less than                      | 3 < 5           | True          |\n",
    "| `>`      | Greater than                   | 7 > 10          | False         |\n",
    "| `==`     | Equal to                       | 4 == 4          | True          |\n",
    "| `<=`     | Less than or equal to          | 6 <= 6          | True          |\n",
    "| `>=`     | Greater than or equal to       | 9 >= 12         | False         |\n"
   ]
  },
  {
   "cell_type": "code",
   "execution_count": null,
   "id": "711dc0d9",
   "metadata": {},
   "outputs": [],
   "source": [
    "3 < 5"
   ]
  },
  {
   "cell_type": "code",
   "execution_count": null,
   "id": "615eae97",
   "metadata": {},
   "outputs": [],
   "source": [
    "my_age = 30\n",
    "\n",
    "my_age > 65"
   ]
  },
  {
   "cell_type": "markdown",
   "id": "5c4b908b",
   "metadata": {},
   "source": [
    "## If Statements in Python\n",
    "\n",
    "An **`if` statement** in Python is used to make **decisions in your code**. It allows you to execute a block of code **only if a certain condition is true**. Conditions are expressions that evaluate to `True` or `False`. Indentation is important in Python, as it defines which code belongs to the `if` block. \n",
    "\n"
   ]
  },
  {
   "cell_type": "code",
   "execution_count": null,
   "id": "0b0233b4",
   "metadata": {},
   "outputs": [],
   "source": [
    "# Run the code and then change the value of `age` to see how the output changes.\n",
    "age = 18\n",
    "\n",
    "if age >= 18: # this is the condition we are checking\n",
    "    print(\"You are an adult.\") # this is the block of code that will run if the condition is true and it has to be indented."
   ]
  },
  {
   "cell_type": "markdown",
   "id": "501a3a73",
   "metadata": {},
   "source": [
    "If you want, you can include an `else` statement to execute code when none of the above conditions are true. The `else` statement always needs to be in the end. \n"
   ]
  },
  {
   "cell_type": "code",
   "execution_count": null,
   "id": "499fbee7",
   "metadata": {},
   "outputs": [],
   "source": [
    "age = 16\n",
    "if age >= 18:\n",
    "    print(\"You are an adult.\")\n",
    "else:\n",
    "    print(\"You are a minor.\")"
   ]
  },
  {
   "cell_type": "markdown",
   "id": "3c944a85",
   "metadata": {},
   "source": [
    "We can also use `elif` (short for \"else if\") to check multiple conditions. In this example we only use one `elif`, but you can define as many elifs as you'd like. "
   ]
  },
  {
   "cell_type": "code",
   "execution_count": null,
   "id": "7192fa75",
   "metadata": {},
   "outputs": [],
   "source": [
    "score = 75\n",
    "\n",
    "if score >= 90:\n",
    "    print(\"Grade: A\")\n",
    "elif score >= 70:\n",
    "    print(\"Grade: B\")\n",
    "else:\n",
    "    print(\"Grade: C\")"
   ]
  },
  {
   "cell_type": "code",
   "execution_count": null,
   "id": "2ab67d82",
   "metadata": {},
   "outputs": [],
   "source": [
    "# create an `if` statement that includes more than one `elif` statement. Depending on the score, it should print the grades A to F.\n",
    "score = 58\n"
   ]
  },
  {
   "cell_type": "markdown",
   "id": "b87545d2",
   "metadata": {},
   "source": [
    "### For Loops in Python\n",
    "\n",
    "A **for loop** in Python is used to **repeat a block of code** for each item in a sequence, such as a list, string, or range of numbers. It allows you to **iterate** over elements without manually indexing them. For example, we can iterate over a list of cities and print them out.\n",
    "\n",
    "The basic structure of a for loop includes the `for` keyword, a **loop variable** that takes each value from the sequence one by one, and a **colon** followed by an **indented block of code** that runs on each iteration.\n"
   ]
  },
  {
   "cell_type": "code",
   "execution_count": null,
   "id": "29b9f3ad",
   "metadata": {},
   "outputs": [],
   "source": [
    "cities = [\"Stockholm\", \"Copenhagen\", \"London\", \"Berlin\", \"Warsaw\", \"Paris\", \"Seoul\"]\n",
    "\n",
    "for city in cities: # city is a temporary loop variable and its value will change on each iteration. On the first iteration city = \"Stockholm\", on the second city = \"Copenhagen\" and so on...\n",
    "    print(city) \n",
    "\n"
   ]
  },
  {
   "cell_type": "markdown",
   "id": "e104ea18",
   "metadata": {},
   "source": [
    "We can use the `range()` method to generate range of number and then iterate over them.\n"
   ]
  },
  {
   "cell_type": "code",
   "execution_count": null,
   "id": "c04d5ef2",
   "metadata": {},
   "outputs": [],
   "source": [
    "for i in range(10): # here, the temporary loop variable is named i. You can name it whatever you want, but by convetion it is normally named i (short for item)\n",
    "    print(i)\n"
   ]
  },
  {
   "cell_type": "markdown",
   "id": "d5dfc9f5",
   "metadata": {},
   "source": [
    "As you can see in the example above, range starts from zero in the same way the index in a list starts with zero. But we can specify a start and stop position for the range method. The first number is the start and the second is the end (but note that the end is not inclusive)."
   ]
  },
  {
   "cell_type": "code",
   "execution_count": null,
   "id": "8d12b6c5",
   "metadata": {},
   "outputs": [],
   "source": [
    "for i in range(1, 11): # starts at 1 and goes up to 11 (but excluding it)\n",
    "    print(i)"
   ]
  },
  {
   "cell_type": "markdown",
   "id": "90742ee3",
   "metadata": {},
   "source": [
    "Using `range()` in a for loop is very useful whenever we want to create a pre-defined number of iterations. For example, square the first 50 integers.\n"
   ]
  },
  {
   "cell_type": "code",
   "execution_count": null,
   "id": "d18ee1d7",
   "metadata": {},
   "outputs": [],
   "source": [
    "for i in range(1, 51):\n",
    "    print(i ** 2) # prints the square of each integer from 1 to 50\n"
   ]
  },
  {
   "cell_type": "markdown",
   "id": "19ccd243",
   "metadata": {},
   "source": [
    "## Functions in Python\n",
    "\n",
    "A **function** in Python is a **reusable block of code** designed to perform a specific task. Functions help you organize your code, reduce repetition, and make programs easier to read and maintain.  \n",
    "For example, if you have a problem that comes up multiple times in a program, instead of writing the code to solve that problem every time, you can define a function once and then call it whenever you need it. This saves you a lot of time and makes your code less repetitive.\n",
    "\n",
    "In Python, defining a function and calling a function are **two different things**:\n",
    "- **Defining** a function means writing the code for what it should do — using the `def` keyword.\n",
    "- **Calling** a function means actually using it — telling Python to execute the code inside it.\n",
    "\n",
    "A function can take **arguments (inputs)** and can also **return a value (output)** using the `return` keyword.\n",
    "\n",
    "Below is a function that calculates the area of a circle. It takes the radius as argument (input) and returns the area (output)."
   ]
  },
  {
   "cell_type": "code",
   "execution_count": null,
   "id": "bc1cb191",
   "metadata": {},
   "outputs": [],
   "source": [
    "# This code defines the function. When you run the cell, the function is stored in memory but not executed.\n",
    "\n",
    "def circle_area(radius):\n",
    "    pi = 3.14\n",
    "    area = pi * radius ** 2\n",
    "    return area"
   ]
  },
  {
   "cell_type": "code",
   "execution_count": null,
   "id": "4a196529",
   "metadata": {},
   "outputs": [],
   "source": [
    "# To call a function, we specify its name followed by parentheses. Inside the parentheses, we provide the arguments the function needs.\n",
    "\n",
    "circle_area(8)"
   ]
  },
  {
   "cell_type": "code",
   "execution_count": null,
   "id": "fe2dbb10",
   "metadata": {},
   "outputs": [],
   "source": [
    "# This function converts inches to centimeters. 1 inch = 2.54 cm\n",
    "\n",
    "def inches_to_cm(inches):    \n",
    "    cm = inches * 2.54\n",
    "    return cm"
   ]
  },
  {
   "cell_type": "code",
   "execution_count": null,
   "id": "786a1ae4",
   "metadata": {},
   "outputs": [],
   "source": [
    "# Call the function inches_to_cm here!\n",
    "\n"
   ]
  },
  {
   "cell_type": "markdown",
   "id": "dcc8b28a",
   "metadata": {},
   "source": [
    "## A Pattern to solve many Coding Problems\n",
    "\n",
    "This is going to be the most valuable thing you'll learn in this lecture. If you get this, you shouldn't have a problem to pass the technical interview. \n",
    "\n",
    "Many programming problems can be boiled down to this: Going through a bunch of data, do stuff to the data (transform, manipulate, filter etc.) and storing your new result.\n",
    "\n",
    "We can break this down into the following actionable steps:\n",
    "\n",
    "1. Create an empty list for the final results, the empty list will serve as a placeholder.\n",
    "2. Figure out what data you need to go throughWrite a loop that goes through the data you need.\n",
    "3. For each iteration, do something to the data.\n",
    "4. For each iteration, append what you've done to the data.\n",
    "\n",
    "Below are couple of examples that use this pattern to solve different problems."
   ]
  },
  {
   "cell_type": "code",
   "execution_count": null,
   "id": "d7f5b844",
   "metadata": {},
   "outputs": [],
   "source": [
    "# EXAMPLE 1: Count the number of characters in each city name.\n",
    "\n",
    "cities = [\"Stockholm\", \"Copenhagen\", \"London\", \"Berlin\", \"Warsaw\", \"Paris\", \"Seoul\"]\n",
    "\n",
    "# 1) Create empty list to store the results\n",
    "city_name_lengths = []\n",
    "\n",
    "# 2) We need to loop through each city in the list\n",
    "for city in cities:\n",
    "    # 3)Get length of the city name\n",
    "    length = len(city)\n",
    "    # 4) Append the length to the results list\n",
    "    city_name_lengths.append(length)\n",
    "\n",
    "\n",
    "print(city_name_lengths)"
   ]
  },
  {
   "cell_type": "code",
   "execution_count": null,
   "id": "cda12d27",
   "metadata": {},
   "outputs": [],
   "source": [
    "# EXAMPLE 2: The list is a queue of people waiting to buy tickets at a concert. Each number represents the age of a person in the queue. The concert has an age restriction: only people aged 18 and older can buy tickets. \n",
    "# Create a new list that only includes the ages of people who are allowed to buy tickets.\n",
    "\n",
    "queue = [18, 24, 31, 35, 17, 29, 40, 50, 28, 39, 12, 17, 16, 23, 43, 36, 38, 41, 49, 55]\n",
    "\n",
    "# 1) Create empty list to store the ages of people who can buy tickets\n",
    "eligible_ages = []\n",
    "\n",
    "# 2) Loop through each age in the queue\n",
    "for age in queue:\n",
    "    # 3) Check if the age is 18 or older\n",
    "    if age >= 18:\n",
    "        # 4) If eligible, append to the new list\n",
    "        eligible_ages.append(age)\n",
    "\n",
    "print(eligible_ages)"
   ]
  },
  {
   "cell_type": "code",
   "execution_count": null,
   "id": "f02d8e64",
   "metadata": {},
   "outputs": [],
   "source": [
    "# EXAMPLE 3: get the square root of all numbers in the list `num`.\n",
    "num = [4, 16, 25, 36, 49, 64, 81, 100]\n",
    "\n",
    "# 1) Create empty list to store the results\n",
    "square_roots = []\n",
    "\n",
    "# 2) Loop through each number in the list\n",
    "for n in num:\n",
    "    # 3) Get the square root\n",
    "    root = n ** 0.5\n",
    "    # 4) Append the result to the new list\n",
    "    square_roots.append(root)\n",
    "\n",
    "print(square_roots)"
   ]
  },
  {
   "cell_type": "markdown",
   "id": "e14c9b4e",
   "metadata": {},
   "source": []
  }
 ],
 "metadata": {
  "kernelspec": {
   "display_name": "base",
   "language": "python",
   "name": "python3"
  },
  "language_info": {
   "codemirror_mode": {
    "name": "ipython",
    "version": 3
   },
   "file_extension": ".py",
   "mimetype": "text/x-python",
   "name": "python",
   "nbconvert_exporter": "python",
   "pygments_lexer": "ipython3",
   "version": "3.13.5"
  }
 },
 "nbformat": 4,
 "nbformat_minor": 5
}
