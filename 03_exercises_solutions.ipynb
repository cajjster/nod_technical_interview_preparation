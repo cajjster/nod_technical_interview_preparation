{
 "cells": [
  {
   "cell_type": "markdown",
   "id": "1462aad0",
   "metadata": {},
   "source": [
    "<img src=\"https://iili.io/2FquTQ4.png\" alt=\"2FquTQ4.png\" border=\"0\" width=\"150\" />\n",
    "\n",
    "# Python Exercises"
   ]
  },
  {
   "cell_type": "markdown",
   "id": "74942491",
   "metadata": {},
   "source": [
    "### Exercise 1: Calculating the Cost of a Freelance Project\n",
    "\n",
    "You’ve just started working as a freelance data analyst, and a client has hired you to clean and visualize their sales data.  \n",
    "They agreed to pay you a fixed daily rate, plus a performance bonus depending on how quickly you deliver the project.\n",
    "\n",
    "You have the following information:\n",
    "- Your daily rate in euros.  \n",
    "- The number of days the project took.  \n",
    "- The agreed bonus percentage (applied to the total pay).  \n",
    "- The client also reimburses you for software licenses (a fixed cost).\n",
    "\n",
    "Your task is to use the variables below to calculate your `base_pay`, `bonus_pay` and `total_earnings` from this project, and print a short summary showing all the details.\n"
   ]
  },
  {
   "cell_type": "code",
   "execution_count": 3,
   "id": "8cad9f3d",
   "metadata": {},
   "outputs": [
    {
     "name": "stdout",
     "output_type": "stream",
     "text": [
      "Base Pay: € 2800.0\n",
      "Bonus Pay: € 350.0\n",
      "Total Earnings: € 3030.0\n"
     ]
    }
   ],
   "source": [
    "# variables\n",
    "daily_rate = 350.0        # euros per day\n",
    "days_worked = 8\n",
    "bonus_percentage = 12.5    # percent\n",
    "software_cost = 120        # euros\n",
    "\n",
    "# calculation\n",
    "base_pay = daily_rate * days_worked\n",
    "bonus = base_pay * (bonus_percentage / 100)\n",
    "total_earnings = base_pay + bonus - software_cost\n",
    "\n",
    "print(\"Base Pay: €\", base_pay)\n",
    "print(\"Bonus Pay: €\", bonus)\n",
    "print(\"Total Earnings: €\", total_earnings)  "
   ]
  },
  {
   "cell_type": "markdown",
   "id": "d42c57c3",
   "metadata": {},
   "source": [
    "### Exercise 2: Tracking an Order in an Online Store\n",
    "\n",
    "You’re working at a small e-commerce startup. Each order that comes in is stored as a list containing this information: \n",
    "[order_id, customer_name, city, items, total_amount, status]\n",
    "\n",
    "Assign the variables `order_id`,`customer_name`, `shipping_status` and `no_of_items` by indexing the list and print out a summary sentence about the order.\n",
    "\n",
    "\n",
    "\n"
   ]
  },
  {
   "cell_type": "code",
   "execution_count": 4,
   "id": "a02995d5",
   "metadata": {},
   "outputs": [
    {
     "name": "stdout",
     "output_type": "stream",
     "text": [
      "Order 1043 for Fredrika Johnsson has been shipped and includes 3 items.\n"
     ]
    }
   ],
   "source": [
    "# Solution\n",
    "\n",
    "order = [1043, \"Fredrika Johnsson\", \"Gothenburg\", [\"backpack\", \"sunglasses\", \"water bottle\"], 89.90, \"shipped\"]\n",
    "\n",
    "# indexing\n",
    "order_id = order[0]\n",
    "customer_name = order[1]\n",
    "no_of_items = len(order[3])\n",
    "status = order[5]\n",
    "\n",
    "\n",
    "# output\n",
    "print(f\"Order {order_id} for {customer_name} has been {status} and includes {no_of_items} items.\")"
   ]
  },
  {
   "cell_type": "markdown",
   "id": "8b7c028c",
   "metadata": {},
   "source": [
    "### Exercise 3: Create a function\n",
    "\n",
    "Your task is to build a function `cylinder_area` that calculates the surface area of a cylinder. The function will need radius and height as input and should return the surface area. Below you'll find the mathematical formula that you need to translate into Python code.\n",
    "\n",
    "\n",
    "The surface area \\( A \\) of a cylinder is given by:\n",
    "\n",
    "$$\n",
    "A = 2\\pi r(h + r)\n",
    "$$\n",
    "\n",
    "where  \n",
    "- \\( r \\) = radius  \n",
    "- \\( h \\) = height\n"
   ]
  },
  {
   "cell_type": "code",
   "execution_count": 5,
   "id": "43841bee",
   "metadata": {},
   "outputs": [],
   "source": [
    "import math\n",
    "\n",
    "def cylinder_area(r, h):\n",
    "    \"\"\"Return the surface area of a cylinder given radius r and height h.\"\"\"\n",
    "    return 2 * math.pi * r * (h + r)\n",
    "\n"
   ]
  },
  {
   "cell_type": "markdown",
   "id": "2d334842",
   "metadata": {},
   "source": [
    "### Exercise 4: Call the function\n",
    "\n",
    "Creating and calling a function are two distinct things. When you define a function, you are storing some logic in your program. But to use that logic, you need to call the function. Call function `surface_area` from the previous exercise and see if it works."
   ]
  },
  {
   "cell_type": "code",
   "execution_count": 6,
   "id": "c645f082",
   "metadata": {},
   "outputs": [
    {
     "data": {
      "text/plain": [
       "150.79644737231007"
      ]
     },
     "execution_count": 6,
     "metadata": {},
     "output_type": "execute_result"
    }
   ],
   "source": [
    "\n",
    "cylinder_area(3, 5)"
   ]
  },
  {
   "cell_type": "markdown",
   "id": "b250aa87",
   "metadata": {},
   "source": [
    "### Exercise 5: Divide all numbers by 2\n",
    "\n",
    "Go through the `nums` and divide all numbers by two and save your results to a new list `divided` and print out your results. "
   ]
  },
  {
   "cell_type": "code",
   "execution_count": 9,
   "id": "2f5dd168",
   "metadata": {},
   "outputs": [
    {
     "name": "stdout",
     "output_type": "stream",
     "text": [
      "[1.0, 22.0, 2.5, 33.0, 31.5, 27.5, 12.5, 6.5, 167.5, 162.5, 3.0, 31.5, 6.5, 27.5, 126.5, 10.5, 256.0, 11.0, 172.5, 276.5, 501.0, 156.0, 117.0]\n"
     ]
    }
   ],
   "source": [
    "nums = [2, 44, 5, 66, 63, 55, 25, 13, 335, 325, 6, 63, 13, 55, 253, 21, 512, 22, 345, 553, 1002, 312, 234 ]\n",
    "divided = []\n",
    "\n",
    "for i in nums:\n",
    "    divide = i/2\n",
    "    divided.append(divide)\n",
    "\n",
    "print(divided)"
   ]
  },
  {
   "cell_type": "markdown",
   "id": "73c2bf57",
   "metadata": {},
   "source": [
    "### Exercise 5: Find People that are Older than you\n",
    "\n",
    "Find all the people in `birth_year` that are older than you are and add their current age to a new list list called `ages` and print out your results. "
   ]
  },
  {
   "cell_type": "code",
   "execution_count": 8,
   "id": "0b3d51ea",
   "metadata": {},
   "outputs": [
    {
     "name": "stdout",
     "output_type": "stream",
     "text": [
      "[33, 45, 33, 86, 57, 55, 77, 43, 32]\n"
     ]
    }
   ],
   "source": [
    "birth_year = [1992, 1980, 2000, 2004, 1995, 1992, 1939, 1968, 1970, 1998, 2012, 1948, 1982, 2001, 1993]\n",
    "\n",
    "my_birth_year = 1995\n",
    "year = 2025\n",
    "\n",
    "ages = []\n",
    "\n",
    "for i in birth_year:\n",
    "    if i < my_birth_year:\n",
    "        age = year - i\n",
    "        ages.append(age)\n",
    "\n",
    "print(ages)\n"
   ]
  },
  {
   "cell_type": "markdown",
   "id": "138de5e6",
   "metadata": {},
   "source": []
  }
 ],
 "metadata": {
  "kernelspec": {
   "display_name": "base",
   "language": "python",
   "name": "python3"
  },
  "language_info": {
   "codemirror_mode": {
    "name": "ipython",
    "version": 3
   },
   "file_extension": ".py",
   "mimetype": "text/x-python",
   "name": "python",
   "nbconvert_exporter": "python",
   "pygments_lexer": "ipython3",
   "version": "3.13.5"
  }
 },
 "nbformat": 4,
 "nbformat_minor": 5
}
